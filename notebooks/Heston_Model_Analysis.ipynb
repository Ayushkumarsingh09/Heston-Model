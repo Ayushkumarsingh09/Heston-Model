{
 "cells": [
  {
   "cell_type": "code",
   "execution_count": null,
   "metadata": {},
   "outputs": [],
   "source": [
    "# Heston Model Analysis Notebook\n",
    "\n",
    "# Import necessary libraries\n",
    "import numpy as np\n",
    "import pandas as pd\n",
    "from matplotlib import pyplot as plt\n",
    "from src.heston_model import heston_price\n",
    "from visuals.option_price_visualization import plot_option_prices\n",
    "\n",
    "# Define parameters\n",
    "S = 100\n",
    "K = 100\n",
    "T = 1\n",
    "r = 0.05\n",
    "kappa = 2.0\n",
    "theta = 0.04\n",
    "sigma = 0.3\n",
    "rho = -0.7\n",
    "v0 = 0.04\n",
    "\n",
    "# Calculate and display option price\n",
    "price = heston_price(S, K, T, r, kappa, theta, sigma, rho, v0, option_type=\"call\")\n",
    "print(f\"Heston Call Option Price: {price:.4f}\")\n",
    "\n",
    "# Visualize option prices\n",
    "plot_option_prices(S, K, T, r, kappa, theta, sigma, rho, v0, option_type=\"call\")\n"
   ]
  }
 ],
 "metadata": {
  "language_info": {
   "name": "python"
  }
 },
 "nbformat": 4,
 "nbformat_minor": 2
}
